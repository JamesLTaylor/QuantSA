{
 "cells": [
  {
   "cell_type": "markdown",
   "metadata": {},
   "source": [
    "# Calling QuantSA from python\n",
    "\n",
    "The following is an example of calling the QuantSA dlls from Python. The paths below are absolute and based on the the location of my compiled dlls but it should be easy for you to work out how to change that for your own locations.\n",
    "\n",
    "# Examples of using the Library\n",
    "\n",
    "## Technicalities\n",
    "\n",
    "The main QuantSA library is written in C#.  There are many reasons why this makes sense:\n",
    "\n",
    " * It is a type-safe, object-oriented language - good for building and maintaining large code bases.\n",
    " * It is easier to learn and write than C++\n",
    " * It is faster than Python or Matlab\n",
    " * It is even becoming portable\n",
    " * It plays nicely with the typical bank employee's Microsoft Windows and Office environment\n",
    " \n",
    "Nevertheless Python (or Matlab) remain much more convenient for scientific computing where you are experimenting with different models and methods and so it could be useful to be able to mix command line style exploration and a more complete library."
   ]
  },
  {
   "cell_type": "markdown",
   "metadata": {},
   "source": [
    "### Letting Python see the C# Library:"
   ]
  },
  {
   "cell_type": "code",
   "execution_count": null,
   "metadata": {
    "scrolled": false
   },
   "outputs": [],
   "source": [
    "import clr # to be able to use the C# library\n",
    "\n",
    "clr.AddReference(\"System.Collections\")\n",
    "clr.AddReference(r'C:\\Dev\\QuantSAFolder\\QuantSA\\QuantSA\\QuantSA.Excel.AddIn\\bin\\Debug\\QuantSA.Shared.dll')\n",
    "clr.AddReference(r'C:\\Dev\\QuantSAFolder\\QuantSA\\QuantSA\\QuantSA.Excel.AddIn\\bin\\Debug\\QuantSA.Core.dll')\n",
    "clr.AddReference(r'C:\\Dev\\QuantSAFolder\\QuantSA\\QuantSA\\QuantSA.Excel.AddIn\\bin\\Debug\\QuantSA.CoreExtensions.dll')\n",
    "clr.AddReference(r'C:\\Dev\\QuantSAFolder\\QuantSA\\QuantSA\\QuantSA.Excel.AddIn\\bin\\Debug\\QuantSA.Valuation.dll')\n",
    "\n",
    "from System.Collections.Generic import List\n",
    "\n",
    "from QuantSA.Shared.Dates import *\n",
    "print(\"The library is ready to use!\")\n"
   ]
  },
  {
   "cell_type": "markdown",
   "metadata": {},
   "source": [
    "## Load Static Data"
   ]
  },
  {
   "cell_type": "code",
   "execution_count": null,
   "metadata": {},
   "outputs": [],
   "source": [
    "from QuantSA.CoreExtensions.Data import *\n",
    "from QuantSA.Shared.State import *\n",
    "\n",
    "SharedDataLoader.LoadFromFolder(r\"C:\\Dev\\QuantSAFolder\\QuantSA\\QuantSA\\QuantSA.Excel.AddIn\\bin\\Debug\")\n",
    "zar = QuantSAState.GetCurrency(\"ZAR\")\n",
    "jibar = QuantSAState.GetFloatRateIndex(\"ZAR.JIBAR.3M\")\n",
    "\n",
    "print(zar)\n",
    "print(jibar)"
   ]
  },
  {
   "cell_type": "markdown",
   "metadata": {},
   "source": [
    "## Making a product"
   ]
  },
  {
   "cell_type": "code",
   "execution_count": null,
   "metadata": {},
   "outputs": [],
   "source": [
    "from QuantSA.Core.Products.Rates import *\n",
    "\n",
    "nearDate = Date(\"2021-09-14\")\n",
    "farDate = Date(\"2021-12-14\")\n",
    "fra = FRA(1000000, 0.25, 0.07, True, nearDate, farDate, jibar)\n",
    "\n",
    "print(fra)"
   ]
  },
  {
   "cell_type": "markdown",
   "metadata": {},
   "source": [
    "## Setting up a model"
   ]
  },
  {
   "cell_type": "code",
   "execution_count": null,
   "metadata": {},
   "outputs": [],
   "source": [
    "from QuantSA.Core.CurvesAndSurfaces import *\n",
    "from QuantSA.Valuation.Models.Rates import *\n",
    "from QuantSA.Shared.Primitives import *\n",
    "from QuantSA.Valuation import *\n",
    "\n",
    "# Set up the model\n",
    "valueDate = Date(\"2020-09-14\")\n",
    "maximumDate = Date(\"2030-09-14\")\n",
    "dates = [valueDate, maximumDate]\n",
    "rates = [ 0.07, 0.07 ]\n",
    "discountCurve = DatesAndRates(zar, valueDate, dates, rates, maximumDate)\n",
    "\n",
    "numeraireModel = DeterministicCurves(discountCurve);\n",
    "otherModels = List[Simulator]() # no model other than discounting for now.\n",
    "coordinator = Coordinator(numeraireModel, otherModels, 1) # the magic ingredient that gets \n",
    "                                                          # models and products to work \n",
    "                                                          # together\n",
    "\n",
    "print(\"A model is ready.\")"
   ]
  },
  {
   "cell_type": "markdown",
   "metadata": {},
   "source": [
    "## Valuing the product with the model"
   ]
  },
  {
   "cell_type": "code",
   "execution_count": null,
   "metadata": {},
   "outputs": [],
   "source": [
    "# Run the valuation\n",
    "portfolio = [fra]\n",
    "\n",
    "try: \n",
    "   value = coordinator.Value(fra, valueDate)\n",
    "except Exception as e: \n",
    "    print(e)\n",
    "\n"
   ]
  },
  {
   "cell_type": "markdown",
   "metadata": {},
   "source": [
    "Aha, this is good.  You can't value a FRA with a discounting model because its cashflow depends on 3 month Jibar and your model does not know anything about 3 month Jibar.\n",
    "\n",
    "With this type of constraint (which is deeply embedded in the library):\n",
    "\n",
    " * You will never work under the wrong numeraire again\n",
    " * You will never use the wrong curve to forecast a rate or asset price\n",
    " * You will never incorrectly combine cashflows in different currencies\n",
    " * etc.\n",
    " \n",
    "For our problem at hand we need to fix the model by setting it up to forecast some rates:"
   ]
  },
  {
   "cell_type": "code",
   "execution_count": null,
   "metadata": {},
   "outputs": [],
   "source": [
    "from QuantSA.Core.MarketData import *\n",
    "\n",
    "# add a forecast curve\n",
    "forwardRates = [0.070614, 0.070614]\n",
    "forecastCurve = ForecastCurve(valueDate, jibar, dates, forwardRates) # use flat 7% rates for forecasting\n",
    "numeraireModel = DeterministicCurves(discountCurve);\n",
    "numeraireModel.AddRateForecast(forecastCurve) # add the forecast curve to the model\n",
    "otherModels = List[Simulator]() # no model other than discounting for now.\n",
    "coordinator = Coordinator(numeraireModel, otherModels, 1)\n",
    "\n",
    "# value the product\n",
    "value = coordinator.Value(fra, valueDate)\n",
    "print(\"value is: {:.2f}\".format(value))"
   ]
  },
  {
   "cell_type": "markdown",
   "metadata": {},
   "source": [
    "Is the value right?"
   ]
  },
  {
   "cell_type": "code",
   "execution_count": null,
   "metadata": {},
   "outputs": [],
   "source": [
    "# check the value\n",
    "import numpy as np\n",
    "\n",
    "t = (nearDate.value - valueDate.value) / 365.0 # C# operator overloading does not work in Python\n",
    "dt = 0.25\n",
    "fixedRate = 0.07\n",
    "notional = 1000000.0\n",
    "fwdRate = 0.070614\n",
    "refValue = (notional * (fwdRate - fixedRate) * dt / (1 + fwdRate * dt) * \n",
    "            np.exp(-t * 0.07))\n",
    "\n",
    "print(\"value is: {:.2f}.  Expected {:.2f}\".format(value, refValue))"
   ]
  },
  {
   "cell_type": "markdown",
   "metadata": {},
   "source": [
    "And just like that the cashflow definition can be turned into a value.\n"
   ]
  },
  {
   "cell_type": "markdown",
   "metadata": {},
   "source": [
    "## Same Product Different Model\n",
    "\n",
    "In QuantSA models and products are independent.\n",
    "\n",
    "Here is a demonstration of the same FRA with a Hull White model instead of deterministic curve discounting:"
   ]
  },
  {
   "cell_type": "code",
   "execution_count": null,
   "metadata": {},
   "outputs": [],
   "source": [
    "valueDate = Date(2016, 9, 17)\n",
    "flatRate = 0.07\n",
    "newModel = HullWhite1F(zar, 0.05, 0.01, flatRate, flatRate)\n",
    "# tell HW model it is allowed to make some forecasts\n",
    "newModel.AddForecast(jibar)  \n",
    "\n",
    "newCoordinator = Coordinator(newModel, List[Simulator](), 100000)\n",
    "value = newCoordinator.Value(fra, valueDate)\n",
    "print(\"value with the new model is: {:.2f}\".format(value))"
   ]
  },
  {
   "cell_type": "markdown",
   "metadata": {},
   "source": [
    "OK that did not work. There is some issue with Accord after the move to .NETCore (I think).\n",
    "\n",
    "see https://github.com/JamesLTaylor/QuantSA/issues/77\n"
   ]
  },
  {
   "cell_type": "code",
   "execution_count": null,
   "metadata": {},
   "outputs": [],
   "source": []
  }
 ],
 "metadata": {
  "kernelspec": {
   "display_name": "Python 3",
   "language": "python",
   "name": "python3"
  },
  "language_info": {
   "codemirror_mode": {
    "name": "ipython",
    "version": 3
   },
   "file_extension": ".py",
   "mimetype": "text/x-python",
   "name": "python",
   "nbconvert_exporter": "python",
   "pygments_lexer": "ipython3",
   "version": "3.7.0"
  }
 },
 "nbformat": 4,
 "nbformat_minor": 1
}
