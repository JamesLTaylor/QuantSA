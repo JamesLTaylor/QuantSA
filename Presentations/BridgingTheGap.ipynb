{
 "cells": [
  {
   "cell_type": "markdown",
   "metadata": {
    "collapsed": true
   },
   "source": [
    "# Bridging the gap between teaching and doing quant finance\n",
    "\n",
    "Quantitative finance is a broad term, here I am referring to solving pricing problems in the capital markets space (with all their regulatory and other side effects).\n",
    "\n",
    "There are a lot of things that a student and practitioner need to know as a quant.\n",
    "\n",
    "I am going to explore the possibilty of creating a quant library that\n",
    " * Meets the requirements of a bank to solve pricing problems\n",
    " * Has a close link to the fundamental maths concepts so that it can be used for teaching\n",
    " \n",
    "Put differently\n",
    " * It is fast and easy to use for actual products\n",
    " * You can find $(\\Omega, \\mathcal{F}, \\mathbb{Q})$ and $\\mathbb{E}^{\\mathbb{Q}}\\left[ H(T) \\middle| \\mathcal{F}_T \\right]$ in the code\n",
    "\n"
   ]
  },
  {
   "cell_type": "code",
   "execution_count": null,
   "metadata": {
    "collapsed": true
   },
   "outputs": [],
   "source": []
  },
  {
   "cell_type": "markdown",
   "metadata": {},
   "source": [
    "# Teaching\n",
    "\n",
    "When we teach we are aiming to get students to:\n",
    "\n",
    " * Work with SDEs\n",
    " * Understand measure changes and risk neutrality\n",
    " * See contingent claims as random variables\n",
    " * Evaluate expectations of these random variables\n",
    " * Learn supporting numerical techniques to evaluate these expectations\n",
    " \n",
    "---"
   ]
  },
  {
   "cell_type": "markdown",
   "metadata": {},
   "source": [
    "# Doing\n",
    "\n",
    "When we do quant work we are aiming to\n",
    "\n",
    " * Understand a contract and business's cashflows in all states of the world\n",
    " * Select a model that realisically captures the uncertainty of those states of the world\n",
    " * Calibrate the model to a cross section of prices\n",
    " * Provide the model user with an easy way to get the fair present value and sensitivities of these cashflows\n",
    " \n",
    "---"
   ]
  },
  {
   "cell_type": "markdown",
   "metadata": {},
   "source": [
    "# Overlap\n",
    "\n",
    "Unfortunately these two lists do not have a lot of overlap.\n",
    "\n",
    "Often we do make some effort to explicity teach the cashflows for a particular contingent claim, usually for the purpose of deriving some clever closed form price for it or demonstrating\n",
    "\n",
    "I am going to propose a setup that links the teaching and doing regions via a pedagogical smooth pasting condition.\n",
    "\n",
    "Furthermore a key point of the \"Doing\" section is about delivering working software to the consumers of the models.  Of course not every quant wants to nor needs to be a software developer but the organiation where they work must provide a mechanism of getting their models into working software.\n",
    "\n",
    "This proposal also gets quant students to learn inside a pre-existing software architecture, getting used to this early on and then being able to bring their studying development directly into the work environment.\n",
    "\n",
    "---"
   ]
  },
  {
   "cell_type": "markdown",
   "metadata": {},
   "source": [
    "# Setting up an Economy\n",
    "\n",
    "We assume that we have:\n",
    " \n",
    " * a final time $T$\n",
    " * a probability space, a filtration and a measure: $(\\Omega, \\mathcal{F}, \\mathbb{Q})$\n",
    " * stochastic processes: $\\textbf{W}(t)$  (not neccessarily Brownian motions notwithstanding the use of $W$)\n",
    " * a numeraire asset $N(t)$ which is a function of $\\textbf{W}(t)$, and\n",
    " * $K$ market observables are labeled $S_1(t),...S_K(t)$ which are also all functions of $\\textbf{W}(t)$\n",
    "   * these are not neccessarily all tradable assets.  They could be things like forward rates or a default indicators\n",
    "\n",
    "We further assume that the measure $\\mathbb{Q}$ is already the risk neutral one so that for any tradable asset $P$ (see later) with cashflows only at $T$ we have\n",
    "\n",
    "$$ \\frac{P(t)}{N(t)} = \\mathbb{E}^\\mathbb{Q} \\left[ \\frac{P(T)}{N(T)} \\middle| \\mathcal{F}(t) \\right] $$\n",
    "\n",
    "---"
   ]
  },
  {
   "cell_type": "markdown",
   "metadata": {},
   "source": [
    "# Tradable Assets\n",
    "\n",
    "The cashflows on any product or portfolio take place at fixed times and are calculated as functions of the $K$ market observables.  In general if there is a cashflow at $u_i$ it will depend on market observables at times on or before $u_i$\n",
    "\n",
    "$$ X_i = f(S_{j_0}(v_{k_0}), S_{j_1}(v_{k_1}), ...) $$\n",
    "\n",
    "with $(j_l, k_l)$ in some set $\\mathcal{J}(u_i)$ that depends on the product and $u_i$; and $v_{k_l} \\leq u_i$\n",
    "\n",
    "The value of any product at $t_0$ is then:\n",
    "\n",
    "$$ V(t_0) =  \\mathbb{E}^\\mathbb{Q} \\left[ \\sum_{u_i>t_0}{\\frac{S_{xn}(u_i)X_i}{N(u_i)}} \\right] $$\n",
    "\n",
    "Where $N(u_i)$ is the numeraire in the value currency and $S_{xn}$ is that market observable that converts units of the cashflow currency into units of the numeraire currency, i.e. the exchange rate.\n",
    "\n",
    "Any product without optionality can then be represented by the set of random variables and the times at which the cashflows represented by the random variables take place:\n",
    "\n",
    "$$ P = \\left\\{ \\left(X_1, u_1\\right), ..., \\left(X_M, u_M\\right) \\right\\} $$\n",
    "\n",
    "---"
   ]
  },
  {
   "cell_type": "code",
   "execution_count": null,
   "metadata": {
    "collapsed": true
   },
   "outputs": [],
   "source": []
  },
  {
   "cell_type": "markdown",
   "metadata": {},
   "source": [
    "# Link to Doing\n",
    "\n",
    "This all seems more like teaching quant finance rather than doing quant finance.\n",
    "\n",
    "What do the $S$ look like and what does a $P$ look like?\n",
    "\n",
    "The types of $S$ that exist in QuantSA are:\n",
    " * CurrencyPair\n",
    " * DefaultRecovery\n",
    " * DefaultTime\n",
    " * Dividend\n",
    " * FloatingIndex\n",
    " * Share\n",
    "\n",
    "And each of these has a specific type, CurrencyPair will have a base and counter currency, DefaultTime will have a company and default type and FloatingIndex will be one of the world's named floating indices such as 3 month Jibar.\n",
    "\n",
    "The specific type of each of these has a value that can be observed on a screen at a time.\n",
    "\n",
    "The cashlows on a product can be written as functions of these observables.\n",
    "\n",
    "## Example FRA\n",
    "The cashflow on a South African FRA depends only on 3m Jibar, $S_0$, observed on a single date $u_1$, a fixed rate $K$ and an accrual fraction $\\Delta t$:\n",
    "\n",
    "$$ P_{FRA} = \\left\\{ \\left( (S_0(u_1)-K) \\Delta t \\frac{1}{1+ S_0(u_1) \\Delta t} , u_1 \\right) \\right\\}$$\n",
    "\n",
    "\n",
    "## Example Equity Call Option\n",
    "The cashflow on cash settled equity call option with exercise date $u_1$ on a single share, $S_1$, with stike $K$:\n",
    "\n",
    "$$ P_{CALL} = \\left\\{ \\left( \\max(S_1(u_1)-K,0), u_1 \\right) \\right\\}$$\n",
    "\n",
    "---\n"
   ]
  },
  {
   "cell_type": "markdown",
   "metadata": {
    "collapsed": true
   },
   "source": [
    "# Implementing a Product\n",
    "\n",
    "We have seen the maths of how products are defined, now let us see how to implement it.\n",
    "\n",
    "## Example code FRA\n",
    "```cs\n",
    "Date date = new Date(2017, 08, 28);\n",
    "FloatingIndex jibar = FloatingIndex.JIBAR3M;\n",
    "double dt = 91.0/365.0;\n",
    "double fixedRate = 0.071;\n",
    "double notional = 1000000.0;\n",
    "Currency currency = Currency.ZAR;\n",
    "\n",
    "public override List<Cashflow> GetCFs()\n",
    "{\n",
    "    double reset = Get(jibar, date);\n",
    "    double cfAmount = notional * (reset - fixedRate)*dt/(1+dt*reset);\n",
    "    return new List<Cashflow>() { new Cashflow(date, cfAmount, currency) };\n",
    "}\n",
    "```\n",
    "\n",
    "## Example code Call\n",
    "\n",
    "```cs\n",
    "Date exerciseDate = new Date(2017, 08, 28);\n",
    "Share share = new Share(\"AAA\", Currency.ZAR);\n",
    "double strike = 100.0;\n",
    "\n",
    "public override List<Cashflow> GetCFs()\n",
    "{\n",
    "    double amount = Math.Max(0, Get(share, exerciseDate) - strike);\n",
    "    return new List<Cashflow>() {new Cashflow(exerciseDate, amount, share.currency) };        \n",
    "}\n",
    "```\n",
    "\n",
    "This is a little bit like the Portfolio Aggregarion Language in Cesari *et al* (2010).  By the vocabulary is smaller and the syntax is straight C#.\n",
    "\n",
    "As you can see we have \"learnt\" exactly what a FRA and a call option are in a completly model independent way.\n",
    "\n",
    "The next step is to look at how to value these products.\n",
    "\n",
    "---"
   ]
  },
  {
   "cell_type": "markdown",
   "metadata": {},
   "source": [
    "# Examples of using the Library"
   ]
  },
  {
   "cell_type": "markdown",
   "metadata": {},
   "source": [
    "## Technicalities\n",
    "\n",
    "The library is written in C#.  There are many reasons why this makes sense:\n",
    " * It is a type-safe, object-oriented language\n",
    " * It is easier to learn and write than C++\n",
    " * It is faster than Python or Matlab\n",
    " * It is even becoming portable\n",
    " * It plays nicely with the typical bank employee's Microsoft Windows and Office environment\n",
    " \n",
    "Nevertheless Python (or Matlab) remain much more convenient for scientific computing where you are experimenting with different models and methods.\n",
    "\n",
    "To use QuantSA from Python we need the following:"
   ]
  },
  {
   "cell_type": "code",
   "execution_count": null,
   "metadata": {
    "collapsed": true
   },
   "outputs": [],
   "source": []
  },
  {
   "cell_type": "code",
   "execution_count": 1,
   "metadata": {
    "collapsed": false,
    "scrolled": true
   },
   "outputs": [
    {
     "name": "stdout",
     "output_type": "stream",
     "text": [
      "The library is ready to use!\n"
     ]
    }
   ],
   "source": [
    "import clr # to be able to use the C# library\n",
    "\n",
    "clr.AddReference(\"System.Collections\")\n",
    "clr.AddReference(r'C:\\Dev\\QuantSA\\QuantSA\\Excel\\bin\\Debug\\QuantSA.General.dll')\n",
    "clr.AddReference(r'C:\\Dev\\QuantSA\\QuantSA\\Excel\\bin\\Debug\\QuantSA.Valuation.dll')\n",
    "\n",
    "from System.Collections.Generic import List\n",
    "from QuantSA.General import *\n",
    "from QuantSA.Valuation import *\n",
    "print(\"The library is ready to use!\")"
   ]
  },
  {
   "cell_type": "code",
   "execution_count": null,
   "metadata": {
    "collapsed": true
   },
   "outputs": [],
   "source": [
    "string source =\n",
    "r\"Date date = new Date(2017, 08, 28);\n",
    "FloatingIndex jibar = FloatingIndex.JIBAR3M;\n",
    "double dt = 91.0/365.0;\n",
    "double fixedRate = 0.071;\n",
    "double notional = 1000000.0;\n",
    "Currency currency = Currency.ZAR;\n",
    "\n",
    "public override List<Cashflow> GetCFs()\n",
    "{\n",
    "    double reset = Get(jibar, date);\n",
    "    double cfAmount = notional * (reset - fixedRate)*dt/(1+dt*reset);\n",
    "    return new List<Cashflow>() { new Cashflow(date, cfAmount, currency) };\n",
    "}\";\n",
    "            // Make a product at runtime\n",
    "            Product runtimeProduct = RuntimeProduct.CreateFromString(\"MyEuropeanOption\", source);"
   ]
  },
  {
   "cell_type": "markdown",
   "metadata": {},
   "source": [
    "## Make a product"
   ]
  },
  {
   "cell_type": "code",
   "execution_count": 2,
   "metadata": {
    "collapsed": false
   },
   "outputs": [
    {
     "name": "stdout",
     "output_type": "stream",
     "text": [
      "Now we have a swap:\n",
      "QuantSA.General.IRSwap\n"
     ]
    }
   ],
   "source": []
  },
  {
   "cell_type": "markdown",
   "metadata": {},
   "source": [
    "## Make a model"
   ]
  },
  {
   "cell_type": "code",
   "execution_count": 3,
   "metadata": {
    "collapsed": false
   },
   "outputs": [
    {
     "name": "stdout",
     "output_type": "stream",
     "text": [
      "A model is ready.\n"
     ]
    }
   ],
   "source": [
    "# Set up the model\n",
    "valueDate = Date(2016, 9, 17)\n",
    "maximumDate = Date(2026, 9, 17)\n",
    "dates = [Date(2016, 9, 17) , Date(2026, 9, 17)]\n",
    "\n",
    "rates = [ 0.07, 0.07 ]\n",
    "discountCurve = DatesAndRates(Currency.ZAR, valueDate, dates, rates, maximumDate)\n",
    "numeraireModel = DeterminsiticCurves(discountCurve);\n",
    "otherModels = List[Simulator]() # no model other than discounting for now.\n",
    "coordinator = Coordinator(numeraireModel, otherModels, 1)\n",
    "print(\"A model is ready.\")"
   ]
  },
  {
   "cell_type": "markdown",
   "metadata": {},
   "source": [
    "## Value the product with the model"
   ]
  },
  {
   "cell_type": "code",
   "execution_count": null,
   "metadata": {
    "collapsed": true
   },
   "outputs": [],
   "source": []
  },
  {
   "cell_type": "code",
   "execution_count": 4,
   "metadata": {
    "collapsed": false
   },
   "outputs": [
    {
     "ename": "IndexOutOfRangeException",
     "evalue": "Required index: ZAR:JIBAR:3M is not provided by any of the simulators.\n   at QuantSA.Valuation.Coordinator.AssociateFactorsWithSimulators(List`1 portfolio) in C:\\Dev\\QuantSA\\QuantSA\\Valuation\\Coordinator.cs:line 530\r\n   at QuantSA.Valuation.Coordinator.Value(Product[] portfolioIn, Date valueDate) in C:\\Dev\\QuantSA\\QuantSA\\Valuation\\Coordinator.cs:line 442",
     "output_type": "error",
     "traceback": [
      "\u001b[0;31m---------------------------------------------------------------------------\u001b[0m",
      "\u001b[0;31mIndexOutOfRangeException\u001b[0m                  Traceback (most recent call last)",
      "\u001b[0;32m<ipython-input-4-ace6399ed3cc>\u001b[0m in \u001b[0;36m<module>\u001b[0;34m()\u001b[0m\n\u001b[1;32m      1\u001b[0m \u001b[1;31m# Run the valuation\u001b[0m\u001b[1;33m\u001b[0m\u001b[1;33m\u001b[0m\u001b[0m\n\u001b[1;32m      2\u001b[0m \u001b[0mportfolio\u001b[0m \u001b[1;33m=\u001b[0m \u001b[1;33m[\u001b[0m\u001b[0mswap\u001b[0m\u001b[1;33m]\u001b[0m\u001b[1;33m\u001b[0m\u001b[0m\n\u001b[0;32m----> 3\u001b[0;31m \u001b[0mvalue\u001b[0m \u001b[1;33m=\u001b[0m \u001b[0mcoordinator\u001b[0m\u001b[1;33m.\u001b[0m\u001b[0mValue\u001b[0m\u001b[1;33m(\u001b[0m\u001b[0mportfolio\u001b[0m\u001b[1;33m,\u001b[0m \u001b[0mvalueDate\u001b[0m\u001b[1;33m)\u001b[0m\u001b[1;33m\u001b[0m\u001b[0m\n\u001b[0m",
      "\u001b[0;31mIndexOutOfRangeException\u001b[0m: Required index: ZAR:JIBAR:3M is not provided by any of the simulators.\n   at QuantSA.Valuation.Coordinator.AssociateFactorsWithSimulators(List`1 portfolio) in C:\\Dev\\QuantSA\\QuantSA\\Valuation\\Coordinator.cs:line 530\r\n   at QuantSA.Valuation.Coordinator.Value(Product[] portfolioIn, Date valueDate) in C:\\Dev\\QuantSA\\QuantSA\\Valuation\\Coordinator.cs:line 442"
     ]
    }
   ],
   "source": [
    "# Run the valuation\n",
    "portfolio = [swap]\n",
    "value = coordinator.Value(portfolio, valueDate)"
   ]
  },
  {
   "cell_type": "code",
   "execution_count": null,
   "metadata": {
    "collapsed": true
   },
   "outputs": [],
   "source": []
  },
  {
   "cell_type": "markdown",
   "metadata": {},
   "source": [
    "Aha, this is good.  You can't value a swap with a discounting model because its cashflows depend on 3 month Jibar and your model does not know anything about 3 month Jibar.\n",
    "\n",
    "With this type of constraints:\n",
    "\n",
    " * You will never work under the wrong numeraire again\n",
    " * You will never use the wrong curve to forecast a rate\n",
    " \n",
    "So we need to fix the model by setting it up to forecast some rates:"
   ]
  },
  {
   "cell_type": "code",
   "execution_count": null,
   "metadata": {
    "collapsed": false
   },
   "outputs": [],
   "source": [
    "forecastCurve = ForecastCurve(valueDate, FloatingIndex.JIBAR3M, dates, rates) # use the same curve for forecasting\n",
    "numeraireModel.AddRateForecast(forecastCurve) # add the forecast curve to the model\n",
    "\n",
    "portfolio = [swap]\n",
    "value = coordinator.Value(portfolio, valueDate)\n",
    "print(\"value is: {:.2f}.  Expected {:.2f}\".format(value, -41838.32))"
   ]
  },
  {
   "cell_type": "markdown",
   "metadata": {},
   "source": [
    "# Defining Products/Cashflows"
   ]
  },
  {
   "cell_type": "code",
   "execution_count": null,
   "metadata": {
    "collapsed": true
   },
   "outputs": [],
   "source": []
  },
  {
   "cell_type": "markdown",
   "metadata": {},
   "source": [
    "# Future Values\n",
    "\n",
    "In addition to the cashflows on a product that are explcitly defined by the bilateral contract, there are many other financial effects of trading a product such as:\n",
    "\n",
    " * The need to fund the cashflows\n",
    " * The capital required to be held against the position\n",
    " * The loss in the event the counterparty default\n",
    " * The need to place collateral and fund that collateral position\n",
    " * The gain in the event that we default ourselves !?!?!\n",
    "\n",
    "---"
   ]
  },
  {
   "cell_type": "code",
   "execution_count": null,
   "metadata": {
    "collapsed": true
   },
   "outputs": [],
   "source": [
    "# Set up the swap\n",
    "rate = 0.08\n",
    "payFixed = True\n",
    "notional = 1000000\n",
    "startDate = Date(2016, 9, 17)\n",
    "tenor = Tenor.Years(5)\n",
    "swap = IRSwap.CreateZARSwap(rate, payFixed, notional, startDate, tenor)\n",
    "print(\"Now we have a swap:\")\n",
    "print(swap)"
   ]
  },
  {
   "cell_type": "markdown",
   "metadata": {
    "collapsed": true
   },
   "source": [
    "# Stopping Times\n",
    "\n",
    "Stopping times in quant finance are not complicated stochastic control problems\n",
    "\n",
    "The only exercise decisions that I have ever seen involve deciding to exercise or not at a set of dates.  Always if one exercises one knows what the cashflows are as functions of states of the world and similarly if one does not exercise.\n",
    "\n",
    "The optimal stopping time for the person who owns this right is the one that chooses the alternative with the higher expected value.\n",
    "\n",
    "---"
   ]
  },
  {
   "cell_type": "markdown",
   "metadata": {},
   "source": [
    "# Notes\n",
    "\n",
    "Will still teach \n",
    " * measure change \n",
    " * Getting closed form prices in HW and Black\n",
    " * How to build trees and \n",
    " * How to derive and solve PDEs\n",
    "\n",
    "Hoping that many parts of quant finance can become like optimization, we all learn how to do it but we use a standard implementation.\n",
    "\n",
    "For some reason quant finance still has these \"black box\" fears and \"first principles\" misconceptions.  \n",
    "\n",
    "Black boxes are seldom have so little light that it is  impossible to essentially prove that they work the way they are meant to\n",
    "\n",
    "And first principles gives a good grounding for learning and understanding problems but it is a waste of humankind's productive capacity to do everything from first principles.  also the line between things that one is willing to take for granted (a computer's pseudo random number generator) and the things that one wants to do from first principles (type the equation for $S_0 exp((r-0.5\\sigma^2) \\Delta T + \\sigma \\sqrt{\\Delta T} Z)$ into Excel) is arbitrary."
   ]
  },
  {
   "cell_type": "code",
   "execution_count": null,
   "metadata": {
    "collapsed": true
   },
   "outputs": [],
   "source": []
  },
  {
   "cell_type": "code",
   "execution_count": null,
   "metadata": {
    "collapsed": false
   },
   "outputs": [],
   "source": [
    "%matplotlib inline\n",
    "import matplotlib.pyplot as plt\n",
    "import numpy as np\n",
    "plt.xkcd()\n",
    "\n",
    "fig = plt.figure()\n",
    "ax = fig.add_subplot(1, 1, 1)\n",
    "ax.spines['right'].set_color('none')\n",
    "ax.spines['top'].set_color('none')\n",
    "plt.xticks([])\n",
    "plt.yticks([])\n",
    "ax.set_ylim([-30, 10])\n",
    "\n",
    "data = np.ones(100)\n",
    "data[70:] -= np.arange(30)\n",
    "\n",
    "plt.annotate(\n",
    "    'THE DAY PEOPLE STARTED\\nUSING QUANTSA',\n",
    "    xy=(70, 0.9), arrowprops=dict(arrowstyle='->'), xytext=(15, -10))\n",
    "\n",
    "plt.plot(data)\n",
    "\n",
    "plt.xlabel('year')\n",
    "plt.ylabel('quant hours wasted \\n repeating the same work')\n",
    "plt.show()"
   ]
  },
  {
   "cell_type": "code",
   "execution_count": null,
   "metadata": {
    "collapsed": false
   },
   "outputs": [],
   "source": [
    "fig = plt.figure()\n",
    "ax = fig.add_subplot(1, 1, 1)\n",
    "ax.bar([-0.125, 1.0-0.125], [100, 10], 0.25)\n",
    "ax.spines['right'].set_color('none')\n",
    "ax.spines['top'].set_color('none')\n",
    "ax.xaxis.set_ticks_position('bottom')\n",
    "ax.set_xticks([0, 1])\n",
    "ax.set_xlim([-0.5, 1.5])\n",
    "ax.set_ylim([0, 110])\n",
    "ax.set_xticklabels(['BUSINESS AS\\n USUAL', 'QUANTSA ON \\n LEFT AND RIGHT'])\n",
    "plt.yticks([])\n",
    "plt.ylabel('Difficulty')\n",
    "plt.title(\"TRANSITIONING FROM THEORY TO PRACTICE\")\n",
    "\n",
    "plt.show()"
   ]
  },
  {
   "cell_type": "markdown",
   "metadata": {},
   "source": [
    "# References\n",
    "\n",
    "[1] Serguei Issakov Alexandre Antonov and Serguei Mechkov. Backward induction for future values.\n",
    "*Risk*, pages 92-97, 2015.\n",
    "\n",
    "[2] G. Cesari, J. Aquilina, and N. Charpillon. *Modelling, Pricing, and Hedging Counterparty Credit\n",
    "Exposure*. Springer, 2010.\n",
    "\n",
    "[3] Francis A. Longstaff and Eduardo S. Schwartz. Valuing american options by simulation: A\n",
    "simple least-squares approach. *Review of Financial Studies*, pages 113-147, 2001.\n",
    "\n",
    "[4] S.E. Shreve. *Stochastic Calculus for Finance II: Continuous-Time Models.* Number v. 11 in\n",
    "Springer Finance Textbooks. Springer, 2004."
   ]
  },
  {
   "cell_type": "code",
   "execution_count": null,
   "metadata": {
    "collapsed": true
   },
   "outputs": [],
   "source": []
  }
 ],
 "metadata": {
  "kernelspec": {
   "display_name": "Python 2",
   "language": "python",
   "name": "python2"
  },
  "language_info": {
   "codemirror_mode": {
    "name": "ipython",
    "version": 2
   },
   "file_extension": ".py",
   "mimetype": "text/x-python",
   "name": "python",
   "nbconvert_exporter": "python",
   "pygments_lexer": "ipython2",
   "version": "2.7.9"
  }
 },
 "nbformat": 4,
 "nbformat_minor": 1
}
